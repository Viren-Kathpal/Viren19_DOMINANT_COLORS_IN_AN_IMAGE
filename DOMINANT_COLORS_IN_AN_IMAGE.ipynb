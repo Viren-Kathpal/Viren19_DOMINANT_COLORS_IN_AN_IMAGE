{
  "nbformat": 4,
  "nbformat_minor": 0,
  "metadata": {
    "colab": {
      "provenance": []
    },
    "kernelspec": {
      "name": "python3",
      "display_name": "Python 3"
    },
    "language_info": {
      "name": "python"
    }
  },
  "cells": [
    {
      "cell_type": "markdown",
      "source": [
        "VIREN KATHPAL\n",
        "Viren19_Dominant_Colors_in_an_image"
      ],
      "metadata": {
        "id": "TZ6tOAjak8kU"
      }
    },
    {
      "cell_type": "code",
      "execution_count": null,
      "metadata": {
        "colab": {
          "base_uri": "https://localhost:8080/",
          "height": 462
        },
        "id": "CySdeQuzUC8Z",
        "outputId": "b6f41463-7430-4ea2-e8c6-52fa61478a0c"
      },
      "outputs": [
        {
          "output_type": "stream",
          "name": "stdout",
          "text": [
            "Org image shape -->  (1280, 859, 3)\n",
            "After resizing shape -->  (200, 134, 3)\n",
            "After Flattening shape -->  (26800, 3)\n"
          ]
        },
        {
          "output_type": "stream",
          "name": "stderr",
          "text": [
            "/usr/local/lib/python3.10/dist-packages/sklearn/cluster/_kmeans.py:870: FutureWarning: The default value of `n_init` will change from 10 to 'auto' in 1.4. Set the value of `n_init` explicitly to suppress the warning\n",
            "  warnings.warn(\n"
          ]
        },
        {
          "output_type": "display_data",
          "data": {
            "text/plain": [
              "<Figure size 1200x800 with 5 Axes>"
            ],
            "image/png": "[encoded data removed]"
          },
          "metadata": {}
        },
        {
          "output_type": "display_data",
          "data": {
            "text/plain": [
              "<Figure size 1200x800 with 1 Axes>"
            ],
            "image/png": "[encoded data removed]"
          },
          "metadata": {}
        }
      ],
      "source": [
        "import cv2\n",
        "import numpy as np\n",
        "import matplotlib.pyplot as plt\n",
        "from sklearn.cluster import KMeans\n",
        "import imutils\n",
        "clusters = 5\n",
        "img = cv2.imread('Mona Lisa.jpg')\n",
        "org_img = img.copy()\n",
        "print('Org image shape --> ',img.shape)\n",
        "img = imutils.resize(img,height=200)\n",
        "print('After resizing shape --> ',img.shape)\n",
        "flat_img = np.reshape(img,(-1,3))\n",
        "print('After Flattening shape --> ',flat_img.shape)\n",
        "kmeans = KMeans(n_clusters=clusters,random_state=0)\n",
        "kmeans.fit(flat_img)\n",
        "dominant_colors = np.array(kmeans.cluster_centers_,dtype='uint')\n",
        "percentages = (np.unique(kmeans.labels_,return_counts=True)[1])/flat_img.shape[0]\n",
        "p_and_c = zip(percentages,dominant_colors)\n",
        "p_and_c = sorted(p_and_c,reverse=True)\n",
        "block = np.ones((50,50,3),dtype='uint')\n",
        "plt.figure(figsize=(12,8))\n",
        "for i in range(clusters):\n",
        "    plt.subplot(1,clusters,i+1)\n",
        "    block[:] = p_and_c[i][1][::-1] # we have done this to convert bgr(opencv) to rgb(matplotlib)\n",
        "    plt.imshow(block)\n",
        "    plt.xticks([])\n",
        "    plt.yticks([])\n",
        "    plt.xlabel(str(round(p_and_c[i][0]*100,2))+'%')\n",
        "bar = np.ones((50,500,3),dtype='uint')\n",
        "plt.figure(figsize=(12,8))\n",
        "plt.title('Proportions of colors in the image')\n",
        "start = 0\n",
        "i = 1\n",
        "for p,c in p_and_c:\n",
        "    end = start+int(p*bar.shape[1])\n",
        "    if i==clusters:\n",
        "        bar[:,start:] = c[::-1]\n",
        "    else:\n",
        "        bar[:,start:end] = c[::-1]\n",
        "    start = end\n",
        "    i+=1\n",
        "\n",
        "plt.imshow(bar)\n",
        "plt.xticks([])\n",
        "plt.yticks([])\n",
        "\n",
        "rows = 1000\n",
        "cols = int((org_img.shape[0]/org_img.shape[1])*rows)\n",
        "img = cv2.resize(org_img,dsize=(rows,cols),interpolation=cv2.INTER_LINEAR)"
      ]
    }
  ]
}